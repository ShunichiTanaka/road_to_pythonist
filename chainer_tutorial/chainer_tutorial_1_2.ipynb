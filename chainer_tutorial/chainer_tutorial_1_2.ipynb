{
  "nbformat": 4,
  "nbformat_minor": 0,
  "metadata": {
    "colab": {
      "name": "chainer_tutorial_1-2.ipynb",
      "version": "0.3.2",
      "provenance": []
    },
    "kernelspec": {
      "name": "python3",
      "display_name": "Python 3"
    }
  },
  "cells": [
    {
      "cell_type": "markdown",
      "metadata": {
        "id": "tj0JkehQ90vp",
        "colab_type": "text"
      },
      "source": [
        "|説明|コマンド|\n",
        "|:--|--:|\n",
        "|Markdownモードへ変更|\tCtrl + M → M|\n",
        "|Codeモードへ変更|\tCtrl + M → Y|\n",
        "|セルの実行| Shift + Enter|\n",
        "|セルを上に追加|\tCtrl + M → A|\n",
        "|セルを下に追加| Ctrl + M → B|\n",
        "|セルのコピー|\tCtrl + M → C|\n",
        "|セルの貼り付け|\tCtrl + M → V|\n",
        "|セルの消去|\tCtrl + M → D|\n",
        "|コメントアウト|\tCtrl + /|"
      ]
    },
    {
      "cell_type": "code",
      "metadata": {
        "id": "mOZmhzGe_gyA",
        "colab_type": "code",
        "outputId": "fa22961e-0f1a-4405-8abd-b69aeae3a662",
        "colab": {
          "base_uri": "https://localhost:8080/",
          "height": 34
        }
      },
      "source": [
        "name = 'Chainer'\n",
        "name"
      ],
      "execution_count": 0,
      "outputs": [
        {
          "output_type": "execute_result",
          "data": {
            "text/plain": [
              "'Chainer'"
            ]
          },
          "metadata": {
            "tags": []
          },
          "execution_count": 6
        }
      ]
    },
    {
      "cell_type": "code",
      "metadata": {
        "id": "cGsGMUhK-6Qs",
        "colab_type": "code",
        "outputId": "c2679651-def3-4cf1-a6ae-8865c2fbe466",
        "colab": {
          "base_uri": "https://localhost:8080/",
          "height": 34
        }
      },
      "source": [
        "name.lower()"
      ],
      "execution_count": 0,
      "outputs": [
        {
          "output_type": "execute_result",
          "data": {
            "text/plain": [
              "'chainer'"
            ]
          },
          "metadata": {
            "tags": []
          },
          "execution_count": 4
        }
      ]
    },
    {
      "cell_type": "code",
      "metadata": {
        "id": "krf4FXiG-_-H",
        "colab_type": "code",
        "outputId": "71d1a3cb-9c13-4f48-89ee-2f0c9b9f29a7",
        "colab": {
          "base_uri": "https://localhost:8080/",
          "height": 34
        }
      },
      "source": [
        "name.upper()"
      ],
      "execution_count": 0,
      "outputs": [
        {
          "output_type": "execute_result",
          "data": {
            "text/plain": [
              "'CHAINER'"
            ]
          },
          "metadata": {
            "tags": []
          },
          "execution_count": 5
        }
      ]
    },
    {
      "cell_type": "code",
      "metadata": {
        "id": "hm3qFsBu_BWW",
        "colab_type": "code",
        "outputId": "f96e8430-96a2-470b-a3c0-87c42b7713d1",
        "colab": {
          "base_uri": "https://localhost:8080/",
          "height": 34
        }
      },
      "source": [
        "'{} チュートリアルへようこそ'.format(name)"
      ],
      "execution_count": 0,
      "outputs": [
        {
          "output_type": "execute_result",
          "data": {
            "text/plain": [
              "'Chainer チュートリアルへようこそ'"
            ]
          },
          "metadata": {
            "tags": []
          },
          "execution_count": 7
        }
      ]
    },
    {
      "cell_type": "markdown",
      "metadata": {
        "id": "yuT0cqGI_PbJ",
        "colab_type": "text"
      },
      "source": [
        ""
      ]
    },
    {
      "cell_type": "code",
      "metadata": {
        "id": "3b1SMNqNGAy5",
        "colab_type": "code",
        "outputId": "3852925d-17dc-452f-b89c-2ce706ca7c3c",
        "colab": {
          "base_uri": "https://localhost:8080/",
          "height": 34
        }
      },
      "source": [
        "'{} {}チュートリアルへようこそ'.format(name, 'hello')"
      ],
      "execution_count": 0,
      "outputs": [
        {
          "output_type": "execute_result",
          "data": {
            "text/plain": [
              "'Chainer helloチュートリアルへようこそ'"
            ]
          },
          "metadata": {
            "tags": []
          },
          "execution_count": 8
        }
      ]
    },
    {
      "cell_type": "markdown",
      "metadata": {
        "id": "9hxNJJanGEkN",
        "colab_type": "text"
      },
      "source": [
        "## リスト"
      ]
    },
    {
      "cell_type": "code",
      "metadata": {
        "id": "xSasjrKrGVpd",
        "colab_type": "code",
        "outputId": "c3bdab3d-ce09-43cb-a5d6-c7698228fbb5",
        "colab": {
          "base_uri": "https://localhost:8080/",
          "height": 34
        }
      },
      "source": [
        "numbers = [4, 5, 6, 7]\n",
        "\n",
        "print(numbers)"
      ],
      "execution_count": 0,
      "outputs": [
        {
          "output_type": "stream",
          "text": [
            "[4, 5, 6, 7]\n"
          ],
          "name": "stdout"
        }
      ]
    },
    {
      "cell_type": "code",
      "metadata": {
        "id": "0-0eyBUpGhwz",
        "colab_type": "code",
        "outputId": "aaabdaf8-c2d5-4611-c6b8-f91d96e8a91c",
        "colab": {
          "base_uri": "https://localhost:8080/",
          "height": 34
        }
      },
      "source": [
        "type(numbers)"
      ],
      "execution_count": 0,
      "outputs": [
        {
          "output_type": "execute_result",
          "data": {
            "text/plain": [
              "list"
            ]
          },
          "metadata": {
            "tags": []
          },
          "execution_count": 10
        }
      ]
    },
    {
      "cell_type": "code",
      "metadata": {
        "id": "ff8s_iB8GjRq",
        "colab_type": "code",
        "outputId": "fb23140a-8362-4b26-bbb4-a5009c1bf783",
        "colab": {
          "base_uri": "https://localhost:8080/",
          "height": 34
        }
      },
      "source": [
        "len(numbers)"
      ],
      "execution_count": 0,
      "outputs": [
        {
          "output_type": "execute_result",
          "data": {
            "text/plain": [
              "4"
            ]
          },
          "metadata": {
            "tags": []
          },
          "execution_count": 11
        }
      ]
    },
    {
      "cell_type": "code",
      "metadata": {
        "id": "lIGIRdjmGkqJ",
        "colab_type": "code",
        "outputId": "d2e19c8d-1330-4b46-b3d8-9f87a3638d6e",
        "colab": {
          "base_uri": "https://localhost:8080/",
          "height": 34
        }
      },
      "source": [
        "numbers[-1]"
      ],
      "execution_count": 0,
      "outputs": [
        {
          "output_type": "execute_result",
          "data": {
            "text/plain": [
              "7"
            ]
          },
          "metadata": {
            "tags": []
          },
          "execution_count": 12
        }
      ]
    },
    {
      "cell_type": "code",
      "metadata": {
        "id": "f0_SpbWeGoud",
        "colab_type": "code",
        "outputId": "46547d5c-1034-4475-f2fb-6fb260a94af3",
        "colab": {
          "base_uri": "https://localhost:8080/",
          "height": 34
        }
      },
      "source": [
        "# 開始位置:終了位置 => 開始位置から終了位置のひとつ手前までの要素を抽出\n",
        "numbers[0:2]"
      ],
      "execution_count": 0,
      "outputs": [
        {
          "output_type": "execute_result",
          "data": {
            "text/plain": [
              "[4, 5]"
            ]
          },
          "metadata": {
            "tags": []
          },
          "execution_count": 14
        }
      ]
    },
    {
      "cell_type": "code",
      "metadata": {
        "id": "-mObwl5aGu7h",
        "colab_type": "code",
        "outputId": "48912c4e-d5bf-4d9e-869d-45709bdb51cd",
        "colab": {
          "base_uri": "https://localhost:8080/",
          "height": 34
        }
      },
      "source": [
        "# 開始位置が0の場合は省略可能\n",
        "numbers[:2]"
      ],
      "execution_count": 0,
      "outputs": [
        {
          "output_type": "execute_result",
          "data": {
            "text/plain": [
              "[4, 5]"
            ]
          },
          "metadata": {
            "tags": []
          },
          "execution_count": 15
        }
      ]
    },
    {
      "cell_type": "code",
      "metadata": {
        "id": "dY1Kz2QDHCFn",
        "colab_type": "code",
        "outputId": "23641287-915e-48b9-ea68-2507852284c4",
        "colab": {
          "base_uri": "https://localhost:8080/",
          "height": 34
        }
      },
      "source": [
        "# ２個目から最後まで\n",
        "numbers[1:]"
      ],
      "execution_count": 0,
      "outputs": [
        {
          "output_type": "execute_result",
          "data": {
            "text/plain": [
              "[5, 6, 7]"
            ]
          },
          "metadata": {
            "tags": []
          },
          "execution_count": 17
        }
      ]
    },
    {
      "cell_type": "code",
      "metadata": {
        "id": "NOKK3-YHHMIo",
        "colab_type": "code",
        "outputId": "da2e9d00-ce05-4abc-9767-79707d66fd70",
        "colab": {
          "base_uri": "https://localhost:8080/",
          "height": 34
        }
      },
      "source": [
        " # 全て\n",
        " numbers[:]"
      ],
      "execution_count": 0,
      "outputs": [
        {
          "output_type": "execute_result",
          "data": {
            "text/plain": [
              "[4, 5, 6, 7]"
            ]
          },
          "metadata": {
            "tags": []
          },
          "execution_count": 19
        }
      ]
    },
    {
      "cell_type": "code",
      "metadata": {
        "id": "b5OeX9sqHYtQ",
        "colab_type": "code",
        "outputId": "8d9eab1c-841a-448e-95f2-78415acdbbcd",
        "colab": {
          "base_uri": "https://localhost:8080/",
          "height": 34
        }
      },
      "source": [
        "array = []\n",
        "\n",
        "array.append('Chainer')\n",
        "array.append('チュートリアル')\n",
        "\n",
        "array"
      ],
      "execution_count": 0,
      "outputs": [
        {
          "output_type": "execute_result",
          "data": {
            "text/plain": [
              "['Chainer', 'チュートリアル']"
            ]
          },
          "metadata": {
            "tags": []
          },
          "execution_count": 21
        }
      ]
    },
    {
      "cell_type": "markdown",
      "metadata": {
        "id": "fxve6N0bHuno",
        "colab_type": "text"
      },
      "source": [
        "## タプル"
      ]
    },
    {
      "cell_type": "markdown",
      "metadata": {
        "id": "fRHjQxHyH0aM",
        "colab_type": "text"
      },
      "source": [
        "リストと異なり定義語に中の要素を変更できない  \n",
        "=> 変更できない性質を*イミュータブル*  \n",
        "リストのように変更できる性質を*ミュータブル*"
      ]
    },
    {
      "cell_type": "code",
      "metadata": {
        "id": "Hj7LXPwoH-oR",
        "colab_type": "code",
        "outputId": "6aaa44ea-b509-463e-9c5b-ff1106e127af",
        "colab": {
          "base_uri": "https://localhost:8080/",
          "height": 34
        }
      },
      "source": [
        "tuple = (4, 5, 6, 7)\n",
        "tuple"
      ],
      "execution_count": 0,
      "outputs": [
        {
          "output_type": "execute_result",
          "data": {
            "text/plain": [
              "(4, 5, 6, 7)"
            ]
          },
          "metadata": {
            "tags": []
          },
          "execution_count": 22
        }
      ]
    },
    {
      "cell_type": "code",
      "metadata": {
        "id": "1hn6q1LCIF5u",
        "colab_type": "code",
        "outputId": "92886463-4069-4e3b-f08a-b7c42185e545",
        "colab": {
          "base_uri": "https://localhost:8080/",
          "height": 34
        }
      },
      "source": [
        "type(tuple)"
      ],
      "execution_count": 0,
      "outputs": [
        {
          "output_type": "execute_result",
          "data": {
            "text/plain": [
              "tuple"
            ]
          },
          "metadata": {
            "tags": []
          },
          "execution_count": 23
        }
      ]
    },
    {
      "cell_type": "code",
      "metadata": {
        "id": "gJ6prnvnIHch",
        "colab_type": "code",
        "outputId": "6a2b0bf8-0c32-45c4-be19-37d805e1798d",
        "colab": {
          "base_uri": "https://localhost:8080/",
          "height": 34
        }
      },
      "source": [
        "tuple[:]"
      ],
      "execution_count": 0,
      "outputs": [
        {
          "output_type": "execute_result",
          "data": {
            "text/plain": [
              "(4, 5, 6, 7)"
            ]
          },
          "metadata": {
            "tags": []
          },
          "execution_count": 24
        }
      ]
    },
    {
      "cell_type": "code",
      "metadata": {
        "id": "hcqMk17hIKZJ",
        "colab_type": "code",
        "outputId": "b3c90297-091d-4fc8-8e61-d5d0171a640c",
        "colab": {
          "base_uri": "https://localhost:8080/",
          "height": 168
        }
      },
      "source": [
        "tuple.append(5)"
      ],
      "execution_count": 0,
      "outputs": [
        {
          "output_type": "error",
          "ename": "AttributeError",
          "evalue": "ignored",
          "traceback": [
            "\u001b[0;31m---------------------------------------------------------------------------\u001b[0m",
            "\u001b[0;31mAttributeError\u001b[0m                            Traceback (most recent call last)",
            "\u001b[0;32m<ipython-input-25-0325e3ce6032>\u001b[0m in \u001b[0;36m<module>\u001b[0;34m()\u001b[0m\n\u001b[0;32m----> 1\u001b[0;31m \u001b[0mtuple\u001b[0m\u001b[0;34m.\u001b[0m\u001b[0mappend\u001b[0m\u001b[0;34m(\u001b[0m\u001b[0;36m5\u001b[0m\u001b[0;34m)\u001b[0m\u001b[0;34m\u001b[0m\u001b[0;34m\u001b[0m\u001b[0m\n\u001b[0m",
            "\u001b[0;31mAttributeError\u001b[0m: 'tuple' object has no attribute 'append'"
          ]
        }
      ]
    },
    {
      "cell_type": "markdown",
      "metadata": {
        "id": "F8XlUR9uINix",
        "colab_type": "text"
      },
      "source": [
        "## 辞書"
      ]
    },
    {
      "cell_type": "code",
      "metadata": {
        "id": "vMyaqRdUIuav",
        "colab_type": "code",
        "outputId": "5d9e4e5f-dee3-4ede-d07d-20c39be1874b",
        "colab": {
          "base_uri": "https://localhost:8080/",
          "height": 34
        }
      },
      "source": [
        "scores = {'Math': 90, 'Science': 75, 'English': 80 }\n",
        "scores"
      ],
      "execution_count": 0,
      "outputs": [
        {
          "output_type": "execute_result",
          "data": {
            "text/plain": [
              "{'English': 80, 'Math': 90, 'Science': 75}"
            ]
          },
          "metadata": {
            "tags": []
          },
          "execution_count": 26
        }
      ]
    },
    {
      "cell_type": "code",
      "metadata": {
        "id": "7H06VH-SI0vO",
        "colab_type": "code",
        "outputId": "1714dfa4-1754-4aaf-a9ec-6df03bbefabe",
        "colab": {
          "base_uri": "https://localhost:8080/",
          "height": 34
        }
      },
      "source": [
        "scores['Math']"
      ],
      "execution_count": 0,
      "outputs": [
        {
          "output_type": "execute_result",
          "data": {
            "text/plain": [
              "90"
            ]
          },
          "metadata": {
            "tags": []
          },
          "execution_count": 27
        }
      ]
    },
    {
      "cell_type": "code",
      "metadata": {
        "id": "sR35nxHYI42X",
        "colab_type": "code",
        "outputId": "3f919513-363b-4bcd-9974-f57d2b273624",
        "colab": {
          "base_uri": "https://localhost:8080/",
          "height": 34
        }
      },
      "source": [
        "scores.keys()"
      ],
      "execution_count": 0,
      "outputs": [
        {
          "output_type": "execute_result",
          "data": {
            "text/plain": [
              "dict_keys(['Math', 'Science', 'English'])"
            ]
          },
          "metadata": {
            "tags": []
          },
          "execution_count": 29
        }
      ]
    },
    {
      "cell_type": "code",
      "metadata": {
        "id": "J4yvOObNI7Vy",
        "colab_type": "code",
        "outputId": "389189a6-b8ab-47a5-900c-2b293d878ae5",
        "colab": {
          "base_uri": "https://localhost:8080/",
          "height": 34
        }
      },
      "source": [
        "scores.values()"
      ],
      "execution_count": 0,
      "outputs": [
        {
          "output_type": "execute_result",
          "data": {
            "text/plain": [
              "dict_values([90, 75, 80])"
            ]
          },
          "metadata": {
            "tags": []
          },
          "execution_count": 30
        }
      ]
    },
    {
      "cell_type": "code",
      "metadata": {
        "id": "dsE7L4TlI-Te",
        "colab_type": "code",
        "outputId": "42ec5575-a4b3-482f-f1af-48e1a9065cf3",
        "colab": {
          "base_uri": "https://localhost:8080/",
          "height": 34
        }
      },
      "source": [
        "scores.items()"
      ],
      "execution_count": 0,
      "outputs": [
        {
          "output_type": "execute_result",
          "data": {
            "text/plain": [
              "dict_items([('Math', 90), ('Science', 75), ('English', 80)])"
            ]
          },
          "metadata": {
            "tags": []
          },
          "execution_count": 31
        }
      ]
    },
    {
      "cell_type": "markdown",
      "metadata": {
        "id": "ugw6IJ32JAOq",
        "colab_type": "text"
      },
      "source": [
        "## 制御構文"
      ]
    },
    {
      "cell_type": "code",
      "metadata": {
        "id": "gu-sVmaYJbMk",
        "colab_type": "code",
        "outputId": "73094768-e154-4fe4-e4d4-8a7f3911568f",
        "colab": {
          "base_uri": "https://localhost:8080/",
          "height": 68
        }
      },
      "source": [
        "names = ['佐藤', '鈴木', '高橋']\n",
        "\n",
        "for i in range(len(names)):\n",
        "        print('{}さん'.format(names[i]))"
      ],
      "execution_count": 0,
      "outputs": [
        {
          "output_type": "stream",
          "text": [
            "佐藤さん\n",
            "鈴木さん\n",
            "高橋さん\n"
          ],
          "name": "stdout"
        }
      ]
    },
    {
      "cell_type": "code",
      "metadata": {
        "id": "bY-8cYdnJmkS",
        "colab_type": "code",
        "outputId": "f5f45410-af2c-46eb-da0f-dfb2607747e0",
        "colab": {
          "base_uri": "https://localhost:8080/",
          "height": 68
        }
      },
      "source": [
        "for name in names:\n",
        "    print('{}さん'.format(name))"
      ],
      "execution_count": 0,
      "outputs": [
        {
          "output_type": "stream",
          "text": [
            "佐藤さん\n",
            "鈴木さん\n",
            "高橋さん\n"
          ],
          "name": "stdout"
        }
      ]
    },
    {
      "cell_type": "code",
      "metadata": {
        "id": "EVxtjJGzJ98v",
        "colab_type": "code",
        "outputId": "0cd87364-2582-40bc-d241-57bffce6fab1",
        "colab": {
          "base_uri": "https://localhost:8080/",
          "height": 34
        }
      },
      "source": [
        "a = 0\n",
        "\n",
        "if a > 0:\n",
        "      print('0より大きい')\n",
        "elif a == 0:\n",
        "      print('0です')\n",
        "else:\n",
        "      print('0より小さい')"
      ],
      "execution_count": 0,
      "outputs": [
        {
          "output_type": "stream",
          "text": [
            "0です\n"
          ],
          "name": "stdout"
        }
      ]
    },
    {
      "cell_type": "code",
      "metadata": {
        "id": "YYhW9kAKKdy9",
        "colab_type": "code",
        "outputId": "2ec90587-2d70-4c13-e025-295694e390d1",
        "colab": {
          "base_uri": "https://localhost:8080/",
          "height": 34
        }
      },
      "source": [
        "not True"
      ],
      "execution_count": 0,
      "outputs": [
        {
          "output_type": "execute_result",
          "data": {
            "text/plain": [
              "False"
            ]
          },
          "metadata": {
            "tags": []
          },
          "execution_count": 39
        }
      ]
    },
    {
      "cell_type": "code",
      "metadata": {
        "id": "yuHz1diBKlBx",
        "colab_type": "code",
        "outputId": "fc53de12-1cb9-4d07-c515-b28859d65f25",
        "colab": {
          "base_uri": "https://localhost:8080/",
          "height": 34
        }
      },
      "source": [
        "not False"
      ],
      "execution_count": 0,
      "outputs": [
        {
          "output_type": "execute_result",
          "data": {
            "text/plain": [
              "True"
            ]
          },
          "metadata": {
            "tags": []
          },
          "execution_count": 40
        }
      ]
    },
    {
      "cell_type": "code",
      "metadata": {
        "id": "3HvOUEYfKl_g",
        "colab_type": "code",
        "outputId": "7a77202d-e31a-4443-c2e9-dfcd413089fb",
        "colab": {
          "base_uri": "https://localhost:8080/",
          "height": 34
        }
      },
      "source": [
        "not 1 == 2"
      ],
      "execution_count": 0,
      "outputs": [
        {
          "output_type": "execute_result",
          "data": {
            "text/plain": [
              "True"
            ]
          },
          "metadata": {
            "tags": []
          },
          "execution_count": 41
        }
      ]
    },
    {
      "cell_type": "markdown",
      "metadata": {
        "id": "ojHwJWD3KnaM",
        "colab_type": "text"
      },
      "source": [
        "## 関数"
      ]
    },
    {
      "cell_type": "code",
      "metadata": {
        "id": "VwcWZ65KKvVL",
        "colab_type": "code",
        "colab": {}
      },
      "source": [
        "def double(x):\n",
        "    print(2 * x)"
      ],
      "execution_count": 0,
      "outputs": []
    },
    {
      "cell_type": "code",
      "metadata": {
        "id": "bXiR5iRrK0Ua",
        "colab_type": "code",
        "outputId": "6d2cd939-9cd2-4117-8aae-deb1e59b8a7a",
        "colab": {
          "base_uri": "https://localhost:8080/",
          "height": 34
        }
      },
      "source": [
        "double(3)"
      ],
      "execution_count": 0,
      "outputs": [
        {
          "output_type": "stream",
          "text": [
            "6\n"
          ],
          "name": "stdout"
        }
      ]
    },
    {
      "cell_type": "markdown",
      "metadata": {
        "id": "_czR7TewK2La",
        "colab_type": "text"
      },
      "source": [
        "## クラスの定義"
      ]
    },
    {
      "cell_type": "code",
      "metadata": {
        "id": "QVFmP0oALc4v",
        "colab_type": "code",
        "colab": {}
      },
      "source": [
        "class House:\n",
        "    # initializeメソッド\n",
        "    def __init__(self, name):\n",
        "        self.name_plate = name\n",
        "        \n",
        "    def hello(self):\n",
        "        print('{}の家です'.format(self.name_plate))\n",
        "    "
      ],
      "execution_count": 0,
      "outputs": []
    },
    {
      "cell_type": "code",
      "metadata": {
        "id": "snOHZT21sckU",
        "colab_type": "code",
        "outputId": "516526ad-6777-41ec-89dd-61817317e8f2",
        "colab": {
          "base_uri": "https://localhost:8080/",
          "height": 34
        }
      },
      "source": [
        "sato = House('佐藤')\n",
        "sato.hello()"
      ],
      "execution_count": 0,
      "outputs": [
        {
          "output_type": "stream",
          "text": [
            "佐藤の家です\n"
          ],
          "name": "stdout"
        }
      ]
    },
    {
      "cell_type": "markdown",
      "metadata": {
        "id": "G66_RD-XsgUD",
        "colab_type": "text"
      },
      "source": [
        "### 継承"
      ]
    },
    {
      "cell_type": "code",
      "metadata": {
        "id": "NWeufR6jtBiX",
        "colab_type": "code",
        "colab": {}
      },
      "source": [
        "class Link:\n",
        "    def __init__(self):\n",
        "        self.a = 1\n",
        "        self.b = 2\n",
        "        \n",
        "# 子クラス(親クラス)\n",
        "class Chain(Link):\n",
        "    def sum(self):\n",
        "        return self.a + self.b"
      ],
      "execution_count": 0,
      "outputs": []
    },
    {
      "cell_type": "code",
      "metadata": {
        "id": "jkB_xmGXtSJ2",
        "colab_type": "code",
        "outputId": "4abdba5d-43ca-446e-ef77-8cb134bfd6b1",
        "colab": {
          "base_uri": "https://localhost:8080/",
          "height": 34
        }
      },
      "source": [
        "c = Chain()\n",
        "\n",
        "c.a"
      ],
      "execution_count": 0,
      "outputs": [
        {
          "output_type": "execute_result",
          "data": {
            "text/plain": [
              "1"
            ]
          },
          "metadata": {
            "tags": []
          },
          "execution_count": 6
        }
      ]
    },
    {
      "cell_type": "code",
      "metadata": {
        "id": "7VeNkOOLtUtI",
        "colab_type": "code",
        "outputId": "7d00783c-0cd8-4fa3-e273-16be216ce6cc",
        "colab": {
          "base_uri": "https://localhost:8080/",
          "height": 34
        }
      },
      "source": [
        "c.sum()"
      ],
      "execution_count": 0,
      "outputs": [
        {
          "output_type": "execute_result",
          "data": {
            "text/plain": [
              "3"
            ]
          },
          "metadata": {
            "tags": []
          },
          "execution_count": 7
        }
      ]
    },
    {
      "cell_type": "code",
      "metadata": {
        "id": "oi_u-OjDtWEg",
        "colab_type": "code",
        "outputId": "43f6ba43-3892-4cb9-c243-40f0e0eb462f",
        "colab": {
          "base_uri": "https://localhost:8080/",
          "height": 321
        }
      },
      "source": [
        "# エラー例\n",
        "class Chain(Link):\n",
        "\n",
        "    def __init__(self):\n",
        "        self.c = 5  # self.c を新たに追加\n",
        "\n",
        "    def sum(self):\n",
        "        return self.a + self.b + self.c\n",
        "\n",
        "# インスタンス化\n",
        "C = Chain()\n",
        "\n",
        "C.sum()"
      ],
      "execution_count": 0,
      "outputs": [
        {
          "output_type": "error",
          "ename": "AttributeError",
          "evalue": "ignored",
          "traceback": [
            "\u001b[0;31m---------------------------------------------------------------------------\u001b[0m",
            "\u001b[0;31mAttributeError\u001b[0m                            Traceback (most recent call last)",
            "\u001b[0;32m<ipython-input-8-1e4486b6841f>\u001b[0m in \u001b[0;36m<module>\u001b[0;34m()\u001b[0m\n\u001b[1;32m     10\u001b[0m \u001b[0mC\u001b[0m \u001b[0;34m=\u001b[0m \u001b[0mChain\u001b[0m\u001b[0;34m(\u001b[0m\u001b[0;34m)\u001b[0m\u001b[0;34m\u001b[0m\u001b[0;34m\u001b[0m\u001b[0m\n\u001b[1;32m     11\u001b[0m \u001b[0;34m\u001b[0m\u001b[0m\n\u001b[0;32m---> 12\u001b[0;31m \u001b[0mC\u001b[0m\u001b[0;34m.\u001b[0m\u001b[0msum\u001b[0m\u001b[0;34m(\u001b[0m\u001b[0;34m)\u001b[0m\u001b[0;34m\u001b[0m\u001b[0;34m\u001b[0m\u001b[0m\n\u001b[0m",
            "\u001b[0;32m<ipython-input-8-1e4486b6841f>\u001b[0m in \u001b[0;36msum\u001b[0;34m(self)\u001b[0m\n\u001b[1;32m      5\u001b[0m \u001b[0;34m\u001b[0m\u001b[0m\n\u001b[1;32m      6\u001b[0m     \u001b[0;32mdef\u001b[0m \u001b[0msum\u001b[0m\u001b[0;34m(\u001b[0m\u001b[0mself\u001b[0m\u001b[0;34m)\u001b[0m\u001b[0;34m:\u001b[0m\u001b[0;34m\u001b[0m\u001b[0;34m\u001b[0m\u001b[0m\n\u001b[0;32m----> 7\u001b[0;31m         \u001b[0;32mreturn\u001b[0m \u001b[0mself\u001b[0m\u001b[0;34m.\u001b[0m\u001b[0ma\u001b[0m \u001b[0;34m+\u001b[0m \u001b[0mself\u001b[0m\u001b[0;34m.\u001b[0m\u001b[0mb\u001b[0m \u001b[0;34m+\u001b[0m \u001b[0mself\u001b[0m\u001b[0;34m.\u001b[0m\u001b[0mc\u001b[0m\u001b[0;34m\u001b[0m\u001b[0;34m\u001b[0m\u001b[0m\n\u001b[0m\u001b[1;32m      8\u001b[0m \u001b[0;34m\u001b[0m\u001b[0m\n\u001b[1;32m      9\u001b[0m \u001b[0;31m# インスタンス化\u001b[0m\u001b[0;34m\u001b[0m\u001b[0;34m\u001b[0m\u001b[0;34m\u001b[0m\u001b[0m\n",
            "\u001b[0;31mAttributeError\u001b[0m: 'Chain' object has no attribute 'a'"
          ]
        }
      ]
    },
    {
      "cell_type": "code",
      "metadata": {
        "id": "lG191LHnuAJv",
        "colab_type": "code",
        "outputId": "b890d21d-66a2-4281-9356-26739ca1df39",
        "colab": {
          "base_uri": "https://localhost:8080/",
          "height": 34
        }
      },
      "source": [
        "# super()を使用して明示的に親クラスを呼び出す\n",
        "class Chain(Link):\n",
        "\n",
        "    def __init__(self):\n",
        "        # 親クラスの `__init__()` メソッドを呼び出す\n",
        "        super().__init__()\n",
        "\n",
        "        # self.c を新たに追加\n",
        "        self.c = 5\n",
        "\n",
        "    def sum(self):\n",
        "        return self.a + self.b + self.c\n",
        "\n",
        "# インスタンス化\n",
        "c = Chain()\n",
        "\n",
        "c.sum()"
      ],
      "execution_count": 0,
      "outputs": [
        {
          "output_type": "execute_result",
          "data": {
            "text/plain": [
              "8"
            ]
          },
          "metadata": {
            "tags": []
          },
          "execution_count": 9
        }
      ]
    }
  ]
}